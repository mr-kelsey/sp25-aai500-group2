{
 "cells": [
  {
   "cell_type": "code",
   "execution_count": 1,
   "metadata": {},
   "outputs": [],
   "source": [
    "import pandas as pd\n",
    "import numpy as np\n",
    "import matplotlib.pyplot as plt\n",
    "import seaborn as sns\n",
    "import statsmodels.api as sm\n",
    "import statsmodels.formula.api as smf\n",
    "from sklearn.model_selection import train_test_split\n",
    "from sklearn.metrics import accuracy_score, confusion_matrix, roc_auc_score"
   ]
  },
  {
   "cell_type": "code",
   "execution_count": 2,
   "metadata": {},
   "outputs": [
    {
     "name": "stdout",
     "output_type": "stream",
     "text": [
      "\n",
      " Dataset Overview:\n",
      "\n",
      "<class 'pandas.core.frame.DataFrame'>\n",
      "Index: 77966 entries, 0 to 47979\n",
      "Data columns (total 23 columns):\n",
      " #   Column                   Non-Null Count  Dtype\n",
      "---  ------                   --------------  -----\n",
      " 0   home_score               77966 non-null  int64\n",
      " 1   away_score               77966 non-null  int64\n",
      " 2   neutral                  77966 non-null  int64\n",
      " 3   draw                     77966 non-null  int64\n",
      " 4   home_victory             77966 non-null  int64\n",
      " 5   home_team_Andorra        77966 non-null  bool \n",
      " 6   home_team_Argentina      77966 non-null  bool \n",
      " 7   home_team_Brazil         77966 non-null  bool \n",
      " 8   home_team_Liechtenstein  77966 non-null  bool \n",
      " 9   home_team_Luxembourg     77966 non-null  bool \n",
      " 10  home_team_Malta          77966 non-null  bool \n",
      " 11  home_team_San Marino     77966 non-null  bool \n",
      " 12  home_team_Spain          77966 non-null  bool \n",
      " 13  away_team_Brazil         77966 non-null  bool \n",
      " 14  away_team_Cyprus         77966 non-null  bool \n",
      " 15  away_team_England        77966 non-null  bool \n",
      " 16  away_team_Germany        77966 non-null  bool \n",
      " 17  away_team_Liechtenstein  77966 non-null  bool \n",
      " 18  away_team_Luxembourg     77966 non-null  bool \n",
      " 19  away_team_Malta          77966 non-null  bool \n",
      " 20  away_team_San Marino     77966 non-null  bool \n",
      " 21  away_team_Spain          77966 non-null  bool \n",
      " 22  tournament_Friendly      77966 non-null  bool \n",
      "dtypes: bool(18), int64(5)\n",
      "memory usage: 4.9 MB\n"
     ]
    }
   ],
   "source": [
    "\"\"\"Read in and handle data so that it is consistent with data found in logorithmic regression file\"\"\"\n",
    "# Read in multiple file for combination\n",
    "filenames = [\"results\", \"goalscorers\", \"shootouts\"]\n",
    "dataframes = {}\n",
    "for filename in filenames:\n",
    "    df = pd.read_csv(f\"../Data/{filename}.csv\")\n",
    "    dataframes[filename] = df\n",
    "\n",
    "# join the files\n",
    "results = dataframes[\"results\"].join(dataframes[\"shootouts\"].set_index([\"date\", \"home_team\", \"away_team\"]), on=[\"date\", \"home_team\", \"away_team\"])\n",
    "results = results.join(dataframes[\"goalscorers\"].set_index([\"date\", \"home_team\", \"away_team\"]), on=[\"date\", \"home_team\", \"away_team\"])\n",
    "\n",
    "# covert data types\n",
    "results[\"neutral\"] = results[\"neutral\"].astype(\"int\")\n",
    "results[\"own_goal\"] = (results[\"own_goal\"] == True).astype(\"int\")\n",
    "results[\"penalty\"] = (results[\"penalty\"] == True).astype(\"int\")\n",
    "results[\"first_shooter\"] = (results[\"first_shooter\"] == results[\"home_team\"]).astype(\"int\")\n",
    "\n",
    "# add new fields\n",
    "results[\"draw\"] = (results[\"home_score\"] == results[\"away_score\"]).astype(\"int\")\n",
    "results[\"home_victory\"] = (results[\"home_score\"] > results[\"away_score\"]).astype(\"int\")\n",
    "results[\"shootout_required\"] = (results[\"winner\"].notnull()).astype(\"int\")\n",
    "\n",
    "# modify added fields to reflect data interaction\n",
    "results.loc[results[\"home_team\"] == results[\"winner\"], \"home_victory\"] = 1\n",
    "results.loc[results[\"winner\"].notnull(), \"draw\"] = 0\n",
    "\n",
    "# remove superfluous data\n",
    "results = results.drop(columns=[\"date\", \"city\", \"country\", \"winner\", \"team\", \"scorer\", \"minute\"])\n",
    "\n",
    "# one hot encode dummy data for categorical columns\n",
    "dummied_results = pd.get_dummies(results, columns=[\"home_team\"])\n",
    "dummied_results = pd.get_dummies(dummied_results, columns=[\"away_team\"])\n",
    "dummied_results = pd.get_dummies(dummied_results, columns=[\"tournament\"])\n",
    "\n",
    "# Set an arbitrary significance level and drop all columns that don't meet this level\n",
    "SIG_LEVEL = .05\n",
    "\n",
    "significant = []\n",
    "for col in dummied_results.columns:\n",
    "    if np.abs(np.corrcoef(dummied_results[\"home_victory\"], dummied_results[col])[0,1]) > SIG_LEVEL:\n",
    "        significant.append(col)\n",
    "\n",
    "df = dummied_results[significant]\n",
    "\n",
    "#  Display dataset info\n",
    "print(\"\\n Dataset Overview:\\n\")\n",
    "df.info()"
   ]
  },
  {
   "cell_type": "code",
   "execution_count": 3,
   "metadata": {},
   "outputs": [
    {
     "name": "stdout",
     "output_type": "stream",
     "text": [
      "\n",
      " Final Column Names for Model:\n",
      "Index(['home_score', 'away_score', 'neutral', 'draw', 'home_team_Andorra',\n",
      "       'home_team_Argentina', 'home_team_Brazil', 'home_team_Liechtenstein',\n",
      "       'home_team_Luxembourg', 'home_team_Malta', 'home_team_San Marino',\n",
      "       'home_team_Spain', 'away_team_Brazil', 'away_team_Cyprus',\n",
      "       'away_team_England', 'away_team_Germany', 'away_team_Liechtenstein',\n",
      "       'away_team_Luxembourg', 'away_team_Malta', 'away_team_San Marino',\n",
      "       'away_team_Spain', 'tournament_Friendly'],\n",
      "      dtype='object')\n"
     ]
    }
   ],
   "source": [
    "# ---  DEFINE FEATURES & TARGET ---\n",
    "X = df.drop(columns=[\"home_victory\"])\n",
    "y = df[\"home_victory\"]\n",
    "\n",
    "#  Train-Test Split\n",
    "X_train, X_test, y_train, y_test = train_test_split(\n",
    "    X, y, test_size=0.2, random_state=42, stratify=y\n",
    ")\n",
    "\n",
    "#  Double-check column names to avoid Patsy formula syntax errors\n",
    "print(\"\\n Final Column Names for Model:\")\n",
    "print(X_train.columns)"
   ]
  },
  {
   "cell_type": "code",
   "execution_count": 4,
   "metadata": {},
   "outputs": [
    {
     "name": "stdout",
     "output_type": "stream",
     "text": [
      "\n",
      " GLM Model Summary:\n",
      "                 Generalized Linear Model Regression Results                  \n",
      "==============================================================================\n",
      "Dep. Variable:           home_victory   No. Observations:                77966\n",
      "Model:                            GLM   Df Residuals:                    77943\n",
      "Model Family:                Binomial   Df Model:                           22\n",
      "Link Function:                  Logit   Scale:                          1.0000\n",
      "Method:                          IRLS   Log-Likelihood:                -576.93\n",
      "Date:                Thu, 13 Feb 2025   Deviance:                       1153.9\n",
      "Time:                        21:58:59   Pearson chi2:                 1.95e+04\n",
      "No. Iterations:                    28   Pseudo R-squ. (CS):             0.7453\n",
      "Covariance Type:            nonrobust                                         \n",
      "========================================================================================================\n",
      "                                           coef    std err          z      P>|z|      [0.025      0.975]\n",
      "--------------------------------------------------------------------------------------------------------\n",
      "Intercept                               -0.0126      0.148     -0.086      0.932      -0.302       0.277\n",
      "Q('home_team_Andorra')[T.True]          -4.0874      4.696     -0.870      0.384     -13.291       5.116\n",
      "Q('home_team_Argentina')[T.True]         1.0335      0.479      2.159      0.031       0.095       1.972\n",
      "Q('home_team_Brazil')[T.True]            0.3622      0.498      0.727      0.467      -0.615       1.339\n",
      "Q('home_team_Liechtenstein')[T.True]    -0.9017     20.560     -0.044      0.965     -41.199      39.395\n",
      "Q('home_team_Luxembourg')[T.True]       -0.8698     10.158     -0.086      0.932     -20.779      19.039\n",
      "Q('home_team_Malta')[T.True]            -0.9229     10.093     -0.091      0.927     -20.704      18.858\n",
      "Q('home_team_San Marino')[T.True]       -2.7195     43.107     -0.063      0.950     -87.208      81.769\n",
      "Q('home_team_Spain')[T.True]             0.7270      0.864      0.842      0.400      -0.966       2.420\n",
      "Q('away_team_Brazil')[T.True]           -1.0140      0.584     -1.736      0.083      -2.159       0.131\n",
      "Q('away_team_Cyprus')[T.True]            0.4619     13.323      0.035      0.972     -25.650      26.574\n",
      "Q('away_team_England')[T.True]           1.0237      0.659      1.553      0.121      -0.269       2.316\n",
      "Q('away_team_Germany')[T.True]           0.2374      0.761      0.312      0.755      -1.255       1.730\n",
      "Q('away_team_Liechtenstein')[T.True]     2.0103     13.414      0.150      0.881     -24.281      28.301\n",
      "Q('away_team_Luxembourg')[T.True]        0.4318     12.887      0.034      0.973     -24.826      25.690\n",
      "Q('away_team_Malta')[T.True]             0.7232     14.526      0.050      0.960     -27.748      29.195\n",
      "Q('away_team_San Marino')[T.True]        6.2721    530.788      0.012      0.991   -1034.052    1046.597\n",
      "Q('away_team_Spain')[T.True]             0.1735      0.561      0.309      0.757      -0.926       1.273\n",
      "Q('tournament_Friendly')[T.True]         0.4503      0.246      1.828      0.068      -0.033       0.933\n",
      "Q('home_score')                          9.3969      0.711     13.214      0.000       8.003      10.791\n",
      "Q('away_score')                         -9.3321      0.711    -13.130      0.000     -10.725      -7.939\n",
      "Q('neutral')                            -0.0737      0.149     -0.496      0.620      -0.365       0.218\n",
      "Q('draw')                              -29.8926   1.31e+04     -0.002      0.998   -2.57e+04    2.57e+04\n",
      "========================================================================================================\n"
     ]
    }
   ],
   "source": [
    "# ---  TRAIN GLM MODEL ---\n",
    "#  Ensure all column names are properly enclosed in Q() to avoid syntax errors\n",
    "glm_formula = \"home_victory ~ \" + \" + \".join([f\"Q('{col}')\" for col in X_train.columns])\n",
    "\n",
    "glm_model = smf.glm(formula=glm_formula,\n",
    "                     data=df,\n",
    "                     family=sm.families.Binomial()).fit()\n",
    "\n",
    "#  Display GLM Model Summary\n",
    "print(\"\\n GLM Model Summary:\")\n",
    "print(glm_model.summary())"
   ]
  },
  {
   "cell_type": "code",
   "execution_count": 5,
   "metadata": {},
   "outputs": [
    {
     "name": "stdout",
     "output_type": "stream",
     "text": [
      "\n",
      " GLM Model Performance:\n",
      "✔ Accuracy: 0.9946\n",
      "✔ ROC AUC: 0.9999\n",
      "✔ Confusion Matrix:\n",
      " [[7284   39]\n",
      " [  45 8226]]\n"
     ]
    }
   ],
   "source": [
    "#  Predict with GLM Model\n",
    "y_pred_glm_prob = glm_model.predict(X_test)\n",
    "y_pred_glm_class = (y_pred_glm_prob > 0.5).astype(int)\n",
    "\n",
    "#  Evaluate GLM Model\n",
    "glm_accuracy = accuracy_score(y_test, y_pred_glm_class)\n",
    "glm_roc_auc = roc_auc_score(y_test, y_pred_glm_prob)\n",
    "glm_conf_matrix = confusion_matrix(y_test, y_pred_glm_class)\n",
    "\n",
    "print(\"\\n GLM Model Performance:\")\n",
    "print(f\"✔ Accuracy: {glm_accuracy:.4f}\")\n",
    "print(f\"✔ ROC AUC: {glm_roc_auc:.4f}\")\n",
    "print(\"✔ Confusion Matrix:\\n\", glm_conf_matrix)"
   ]
  },
  {
   "cell_type": "code",
   "execution_count": 6,
   "metadata": {},
   "outputs": [
    {
     "data": {
      "image/png": "[encoded data removed]",
      "text/plain": [
       "<Figure size 800x600 with 1 Axes>"
      ]
     },
     "metadata": {},
     "output_type": "display_data"
    }
   ],
   "source": [
    "# ---  GLM Visualization ---\n",
    "plt.figure(figsize=(8, 6))\n",
    "sns.histplot(y_pred_glm_prob, kde=True, bins=30, color=\"blue\")\n",
    "plt.xlabel(\"Predicted Probability of Home Team Victory\")\n",
    "plt.ylabel(\"Frequency\")\n",
    "plt.title(\"GLM Prediction Probability Distribution\")\n",
    "plt.grid(True)\n",
    "plt.show()"
   ]
  }
 ],
 "metadata": {
  "kernelspec": {
   "display_name": "Python 3",
   "language": "python",
   "name": "python3"
  },
  "language_info": {
   "codemirror_mode": {
    "name": "ipython",
    "version": 3
   },
   "file_extension": ".py",
   "mimetype": "text/x-python",
   "name": "python",
   "nbconvert_exporter": "python",
   "pygments_lexer": "ipython3",
   "version": "3.10.12"
  }
 },
 "nbformat": 4,
 "nbformat_minor": 2
}

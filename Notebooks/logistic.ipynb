{
 "cells": [
  {
   "cell_type": "code",
   "execution_count": 2,
   "metadata": {},
   "outputs": [],
   "source": [
    "\"\"\"Import statements as required\"\"\"\n",
    "import numpy as np\n",
    "import pandas as pd\n",
    "import seaborn as sbn\n",
    "import matplotlib.pyplot as plt\n",
    "\n",
    "from sklearn.metrics import mean_absolute_error\n",
    "from sklearn.model_selection import train_test_split\n",
    "from sklearn.linear_model import LogisticRegression"
   ]
  },
  {
   "cell_type": "code",
   "execution_count": 3,
   "metadata": {},
   "outputs": [
    {
     "name": "stdout",
     "output_type": "stream",
     "text": [
      "Original match count 47980\n"
     ]
    }
   ],
   "source": [
    "\"\"\"Multiple dataframes based on input files\"\"\"\n",
    "filenames = [\"results\", \"goalscorers\", \"shootouts\"]\n",
    "dataframes = {}\n",
    "for filename in filenames:\n",
    "    df = pd.read_csv(f\"../Data/{filename}.csv\")\n",
    "    dataframes[filename] = df\n",
    "\n",
    "print(\"Original match count\", len(dataframes[\"results\"]))"
   ]
  },
  {
   "cell_type": "code",
   "execution_count": 4,
   "metadata": {},
   "outputs": [
    {
     "data": {
      "text/html": [
       "<div>\n",
       "<style scoped>\n",
       "    .dataframe tbody tr th:only-of-type {\n",
       "        vertical-align: middle;\n",
       "    }\n",
       "\n",
       "    .dataframe tbody tr th {\n",
       "        vertical-align: top;\n",
       "    }\n",
       "\n",
       "    .dataframe thead th {\n",
       "        text-align: right;\n",
       "    }\n",
       "</style>\n",
       "<table border=\"1\" class=\"dataframe\">\n",
       "  <thead>\n",
       "    <tr style=\"text-align: right;\">\n",
       "      <th></th>\n",
       "      <th>home_team</th>\n",
       "      <th>away_team</th>\n",
       "      <th>home_score</th>\n",
       "      <th>away_score</th>\n",
       "      <th>tournament</th>\n",
       "      <th>neutral</th>\n",
       "      <th>first_shooter</th>\n",
       "      <th>minute</th>\n",
       "      <th>own_goal</th>\n",
       "      <th>penalty</th>\n",
       "      <th>draw</th>\n",
       "      <th>home_victory</th>\n",
       "      <th>shootout_required</th>\n",
       "    </tr>\n",
       "  </thead>\n",
       "  <tbody>\n",
       "    <tr>\n",
       "      <th>0</th>\n",
       "      <td>Scotland</td>\n",
       "      <td>England</td>\n",
       "      <td>0</td>\n",
       "      <td>0</td>\n",
       "      <td>Friendly</td>\n",
       "      <td>0</td>\n",
       "      <td>0</td>\n",
       "      <td>NaN</td>\n",
       "      <td>0</td>\n",
       "      <td>0</td>\n",
       "      <td>1</td>\n",
       "      <td>0</td>\n",
       "      <td>0</td>\n",
       "    </tr>\n",
       "    <tr>\n",
       "      <th>1</th>\n",
       "      <td>England</td>\n",
       "      <td>Scotland</td>\n",
       "      <td>4</td>\n",
       "      <td>2</td>\n",
       "      <td>Friendly</td>\n",
       "      <td>0</td>\n",
       "      <td>0</td>\n",
       "      <td>NaN</td>\n",
       "      <td>0</td>\n",
       "      <td>0</td>\n",
       "      <td>0</td>\n",
       "      <td>1</td>\n",
       "      <td>0</td>\n",
       "    </tr>\n",
       "    <tr>\n",
       "      <th>2</th>\n",
       "      <td>Scotland</td>\n",
       "      <td>England</td>\n",
       "      <td>2</td>\n",
       "      <td>1</td>\n",
       "      <td>Friendly</td>\n",
       "      <td>0</td>\n",
       "      <td>0</td>\n",
       "      <td>NaN</td>\n",
       "      <td>0</td>\n",
       "      <td>0</td>\n",
       "      <td>0</td>\n",
       "      <td>1</td>\n",
       "      <td>0</td>\n",
       "    </tr>\n",
       "    <tr>\n",
       "      <th>3</th>\n",
       "      <td>England</td>\n",
       "      <td>Scotland</td>\n",
       "      <td>2</td>\n",
       "      <td>2</td>\n",
       "      <td>Friendly</td>\n",
       "      <td>0</td>\n",
       "      <td>0</td>\n",
       "      <td>NaN</td>\n",
       "      <td>0</td>\n",
       "      <td>0</td>\n",
       "      <td>1</td>\n",
       "      <td>0</td>\n",
       "      <td>0</td>\n",
       "    </tr>\n",
       "    <tr>\n",
       "      <th>4</th>\n",
       "      <td>Scotland</td>\n",
       "      <td>England</td>\n",
       "      <td>3</td>\n",
       "      <td>0</td>\n",
       "      <td>Friendly</td>\n",
       "      <td>0</td>\n",
       "      <td>0</td>\n",
       "      <td>NaN</td>\n",
       "      <td>0</td>\n",
       "      <td>0</td>\n",
       "      <td>0</td>\n",
       "      <td>1</td>\n",
       "      <td>0</td>\n",
       "    </tr>\n",
       "  </tbody>\n",
       "</table>\n",
       "</div>"
      ],
      "text/plain": [
       "  home_team away_team  home_score  away_score tournament  neutral  \\\n",
       "0  Scotland   England           0           0   Friendly        0   \n",
       "1   England  Scotland           4           2   Friendly        0   \n",
       "2  Scotland   England           2           1   Friendly        0   \n",
       "3   England  Scotland           2           2   Friendly        0   \n",
       "4  Scotland   England           3           0   Friendly        0   \n",
       "\n",
       "   first_shooter  minute  own_goal  penalty  draw  home_victory  \\\n",
       "0              0     NaN         0        0     1             0   \n",
       "1              0     NaN         0        0     0             1   \n",
       "2              0     NaN         0        0     0             1   \n",
       "3              0     NaN         0        0     1             0   \n",
       "4              0     NaN         0        0     0             1   \n",
       "\n",
       "   shootout_required  \n",
       "0                  0  \n",
       "1                  0  \n",
       "2                  0  \n",
       "3                  0  \n",
       "4                  0  "
      ]
     },
     "execution_count": 4,
     "metadata": {},
     "output_type": "execute_result"
    }
   ],
   "source": [
    "\"\"\"Join dataframes and add fields to round out overall stats\"\"\"\n",
    "results = dataframes[\"results\"].join(dataframes[\"shootouts\"].set_index([\"date\", \"home_team\", \"away_team\"]), on=[\"date\", \"home_team\", \"away_team\"])\n",
    "results = results.join(dataframes[\"goalscorers\"].set_index([\"date\", \"home_team\", \"away_team\"]), on=[\"date\", \"home_team\", \"away_team\"])\n",
    "\n",
    "# covert data type\n",
    "results[\"neutral\"] = results[\"neutral\"].astype(\"int\")\n",
    "results[\"own_goal\"] = (results[\"own_goal\"] == True).astype(\"int\")\n",
    "results[\"penalty\"] = (results[\"penalty\"] == True).astype(\"int\")\n",
    "results[\"first_shooter\"] = (results[\"first_shooter\"] == results[\"home_team\"]).astype(\"int\")\n",
    "\n",
    "# add new fields\n",
    "results[\"draw\"] = (results[\"home_score\"] == results[\"away_score\"]).astype(\"int\")\n",
    "results[\"home_victory\"] = (results[\"home_score\"] > results[\"away_score\"]).astype(\"int\")\n",
    "results[\"shootout_required\"] = (results[\"winner\"].notnull()).astype(\"int\")\n",
    "\n",
    "# modify added fields to reflect data interaction\n",
    "results.loc[results[\"home_team\"] == results[\"winner\"], \"home_victory\"] = 1\n",
    "results.loc[results[\"winner\"].notnull(), \"draw\"] = 0\n",
    "\n",
    "# remove superfluous data\n",
    "results = results.drop(columns=[\"date\", \"city\", \"country\", \"winner\", \"team\", \"scorer\"])\n",
    "\n",
    "results.head()"
   ]
  },
  {
   "cell_type": "code",
   "execution_count": 5,
   "metadata": {},
   "outputs": [
    {
     "data": {
      "image/png": "[encoded data removed]",
      "text/plain": [
       "<Figure size 1000x500 with 1 Axes>"
      ]
     },
     "metadata": {},
     "output_type": "display_data"
    },
    {
     "name": "stdout",
     "output_type": "stream",
     "text": [
      "Minute correlation: -0.0041\n"
     ]
    }
   ],
   "source": [
    "\"\"\"Assess the value of including minute data\"\"\"\n",
    "minute_data = results.loc[results[\"minute\"].notnull()]\n",
    "\n",
    "fig, ax0 = plt.subplots(1,1, figsize=[10,5])\n",
    "sbn.boxplot(data=minute_data, x=\"minute\", y=\"home_victory\", orient=\"h\").set(title=\"Boxplot grouping scoring minute with victory\")\n",
    "plt.show()\n",
    "\n",
    "print(\"Minute correlation:\", round(np.corrcoef(minute_data[\"home_victory\"], minute_data[\"minute\"])[0,1], 4))"
   ]
  },
  {
   "cell_type": "code",
   "execution_count": 6,
   "metadata": {},
   "outputs": [
    {
     "data": {
      "text/html": [
       "<div>\n",
       "<style scoped>\n",
       "    .dataframe tbody tr th:only-of-type {\n",
       "        vertical-align: middle;\n",
       "    }\n",
       "\n",
       "    .dataframe tbody tr th {\n",
       "        vertical-align: top;\n",
       "    }\n",
       "\n",
       "    .dataframe thead th {\n",
       "        text-align: right;\n",
       "    }\n",
       "</style>\n",
       "<table border=\"1\" class=\"dataframe\">\n",
       "  <thead>\n",
       "    <tr style=\"text-align: right;\">\n",
       "      <th></th>\n",
       "      <th>home_team</th>\n",
       "      <th>away_team</th>\n",
       "      <th>home_score</th>\n",
       "      <th>away_score</th>\n",
       "      <th>tournament</th>\n",
       "      <th>neutral</th>\n",
       "      <th>first_shooter</th>\n",
       "      <th>own_goal</th>\n",
       "      <th>penalty</th>\n",
       "      <th>draw</th>\n",
       "      <th>home_victory</th>\n",
       "      <th>shootout_required</th>\n",
       "    </tr>\n",
       "  </thead>\n",
       "  <tbody>\n",
       "    <tr>\n",
       "      <th>0</th>\n",
       "      <td>Scotland</td>\n",
       "      <td>England</td>\n",
       "      <td>0</td>\n",
       "      <td>0</td>\n",
       "      <td>Friendly</td>\n",
       "      <td>0</td>\n",
       "      <td>0</td>\n",
       "      <td>0</td>\n",
       "      <td>0</td>\n",
       "      <td>1</td>\n",
       "      <td>0</td>\n",
       "      <td>0</td>\n",
       "    </tr>\n",
       "  </tbody>\n",
       "</table>\n",
       "</div>"
      ],
      "text/plain": [
       "  home_team away_team  home_score  away_score tournament  neutral  \\\n",
       "0  Scotland   England           0           0   Friendly        0   \n",
       "\n",
       "   first_shooter  own_goal  penalty  draw  home_victory  shootout_required  \n",
       "0              0         0        0     1             0                  0  "
      ]
     },
     "execution_count": 6,
     "metadata": {},
     "output_type": "execute_result"
    }
   ],
   "source": [
    "\"\"\"Miunte was sparse and offers no insight - remove it\"\"\"\n",
    "results = results.drop(columns=[\"minute\"])\n",
    "results.head(n=1)"
   ]
  },
  {
   "cell_type": "code",
   "execution_count": 7,
   "metadata": {},
   "outputs": [
    {
     "name": "stdout",
     "output_type": "stream",
     "text": [
      "no null values in dataset\n"
     ]
    }
   ],
   "source": [
    "\"\"\"Check to ensure there are no missing values\"\"\"\n",
    "nulls = pd.DataFrame(results.isnull().sum(), columns=[\"columns_with_null_values\"])\n",
    "nulls = nulls[nulls[\"columns_with_null_values\"] > 0]\n",
    "assert len(nulls) == 0\n",
    "print(\"no null values in dataset\")"
   ]
  },
  {
   "cell_type": "code",
   "execution_count": 8,
   "metadata": {},
   "outputs": [
    {
     "data": {
      "text/html": [
       "<div>\n",
       "<style scoped>\n",
       "    .dataframe tbody tr th:only-of-type {\n",
       "        vertical-align: middle;\n",
       "    }\n",
       "\n",
       "    .dataframe tbody tr th {\n",
       "        vertical-align: top;\n",
       "    }\n",
       "\n",
       "    .dataframe thead th {\n",
       "        text-align: right;\n",
       "    }\n",
       "</style>\n",
       "<table border=\"1\" class=\"dataframe\">\n",
       "  <thead>\n",
       "    <tr style=\"text-align: right;\">\n",
       "      <th></th>\n",
       "      <th>home_score</th>\n",
       "      <th>away_score</th>\n",
       "      <th>neutral</th>\n",
       "      <th>first_shooter</th>\n",
       "      <th>own_goal</th>\n",
       "      <th>penalty</th>\n",
       "      <th>draw</th>\n",
       "      <th>home_victory</th>\n",
       "      <th>shootout_required</th>\n",
       "    </tr>\n",
       "  </thead>\n",
       "  <tbody>\n",
       "    <tr>\n",
       "      <th>count</th>\n",
       "      <td>77966.000000</td>\n",
       "      <td>77966.000000</td>\n",
       "      <td>77966.000000</td>\n",
       "      <td>77966.000000</td>\n",
       "      <td>77966.000000</td>\n",
       "      <td>77966.000000</td>\n",
       "      <td>77966.000000</td>\n",
       "      <td>77966.000000</td>\n",
       "      <td>77966.000000</td>\n",
       "    </tr>\n",
       "    <tr>\n",
       "      <th>mean</th>\n",
       "      <td>2.232229</td>\n",
       "      <td>1.401162</td>\n",
       "      <td>0.263025</td>\n",
       "      <td>0.003360</td>\n",
       "      <td>0.010530</td>\n",
       "      <td>0.037991</td>\n",
       "      <td>0.175795</td>\n",
       "      <td>0.530385</td>\n",
       "      <td>0.011069</td>\n",
       "    </tr>\n",
       "    <tr>\n",
       "      <th>std</th>\n",
       "      <td>2.225011</td>\n",
       "      <td>1.599573</td>\n",
       "      <td>0.440279</td>\n",
       "      <td>0.057872</td>\n",
       "      <td>0.102076</td>\n",
       "      <td>0.191176</td>\n",
       "      <td>0.380648</td>\n",
       "      <td>0.499079</td>\n",
       "      <td>0.104626</td>\n",
       "    </tr>\n",
       "    <tr>\n",
       "      <th>min</th>\n",
       "      <td>0.000000</td>\n",
       "      <td>0.000000</td>\n",
       "      <td>0.000000</td>\n",
       "      <td>0.000000</td>\n",
       "      <td>0.000000</td>\n",
       "      <td>0.000000</td>\n",
       "      <td>0.000000</td>\n",
       "      <td>0.000000</td>\n",
       "      <td>0.000000</td>\n",
       "    </tr>\n",
       "    <tr>\n",
       "      <th>25%</th>\n",
       "      <td>1.000000</td>\n",
       "      <td>0.000000</td>\n",
       "      <td>0.000000</td>\n",
       "      <td>0.000000</td>\n",
       "      <td>0.000000</td>\n",
       "      <td>0.000000</td>\n",
       "      <td>0.000000</td>\n",
       "      <td>0.000000</td>\n",
       "      <td>0.000000</td>\n",
       "    </tr>\n",
       "    <tr>\n",
       "      <th>50%</th>\n",
       "      <td>2.000000</td>\n",
       "      <td>1.000000</td>\n",
       "      <td>0.000000</td>\n",
       "      <td>0.000000</td>\n",
       "      <td>0.000000</td>\n",
       "      <td>0.000000</td>\n",
       "      <td>0.000000</td>\n",
       "      <td>1.000000</td>\n",
       "      <td>0.000000</td>\n",
       "    </tr>\n",
       "    <tr>\n",
       "      <th>75%</th>\n",
       "      <td>3.000000</td>\n",
       "      <td>2.000000</td>\n",
       "      <td>1.000000</td>\n",
       "      <td>0.000000</td>\n",
       "      <td>0.000000</td>\n",
       "      <td>0.000000</td>\n",
       "      <td>0.000000</td>\n",
       "      <td>1.000000</td>\n",
       "      <td>0.000000</td>\n",
       "    </tr>\n",
       "    <tr>\n",
       "      <th>max</th>\n",
       "      <td>31.000000</td>\n",
       "      <td>21.000000</td>\n",
       "      <td>1.000000</td>\n",
       "      <td>1.000000</td>\n",
       "      <td>1.000000</td>\n",
       "      <td>1.000000</td>\n",
       "      <td>1.000000</td>\n",
       "      <td>1.000000</td>\n",
       "      <td>1.000000</td>\n",
       "    </tr>\n",
       "  </tbody>\n",
       "</table>\n",
       "</div>"
      ],
      "text/plain": [
       "         home_score    away_score       neutral  first_shooter      own_goal  \\\n",
       "count  77966.000000  77966.000000  77966.000000   77966.000000  77966.000000   \n",
       "mean       2.232229      1.401162      0.263025       0.003360      0.010530   \n",
       "std        2.225011      1.599573      0.440279       0.057872      0.102076   \n",
       "min        0.000000      0.000000      0.000000       0.000000      0.000000   \n",
       "25%        1.000000      0.000000      0.000000       0.000000      0.000000   \n",
       "50%        2.000000      1.000000      0.000000       0.000000      0.000000   \n",
       "75%        3.000000      2.000000      1.000000       0.000000      0.000000   \n",
       "max       31.000000     21.000000      1.000000       1.000000      1.000000   \n",
       "\n",
       "            penalty          draw  home_victory  shootout_required  \n",
       "count  77966.000000  77966.000000  77966.000000       77966.000000  \n",
       "mean       0.037991      0.175795      0.530385           0.011069  \n",
       "std        0.191176      0.380648      0.499079           0.104626  \n",
       "min        0.000000      0.000000      0.000000           0.000000  \n",
       "25%        0.000000      0.000000      0.000000           0.000000  \n",
       "50%        0.000000      0.000000      1.000000           0.000000  \n",
       "75%        0.000000      0.000000      1.000000           0.000000  \n",
       "max        1.000000      1.000000      1.000000           1.000000  "
      ]
     },
     "execution_count": 8,
     "metadata": {},
     "output_type": "execute_result"
    }
   ],
   "source": [
    "\"\"\"Five-number summary for each column in dataset\"\"\"\n",
    "results.describe()"
   ]
  },
  {
   "cell_type": "code",
   "execution_count": 9,
   "metadata": {},
   "outputs": [
    {
     "data": {
      "image/png": "[encoded data removed]",
      "text/plain": [
       "<Figure size 1000x500 with 1 Axes>"
      ]
     },
     "metadata": {},
     "output_type": "display_data"
    },
    {
     "name": "stdout",
     "output_type": "stream",
     "text": [
      "Home score correlation: 0.59\n"
     ]
    }
   ],
   "source": [
    "\"\"\"Box plot and correlation\"\"\"\n",
    "fig, ax0 = plt.subplots(1,1, figsize=[10,5])\n",
    "sbn.boxplot(data=results, x=\"home_score\", y=\"home_victory\", orient=\"h\").set(title=\"Boxplot grouping home score by victory\")\n",
    "plt.show()\n",
    "\n",
    "print(\"Home score correlation:\", round(np.corrcoef(results[\"home_victory\"], results[\"home_score\"])[0,1], 2))"
   ]
  },
  {
   "cell_type": "code",
   "execution_count": 10,
   "metadata": {},
   "outputs": [
    {
     "data": {
      "image/png": "[encoded data removed]",
      "text/plain": [
       "<Figure size 1000x500 with 1 Axes>"
      ]
     },
     "metadata": {},
     "output_type": "display_data"
    },
    {
     "name": "stdout",
     "output_type": "stream",
     "text": [
      "Away score correlation: -0.53\n"
     ]
    }
   ],
   "source": [
    "\"\"\"Box plot and correlation\"\"\"\n",
    "fig, ax0 = plt.subplots(1,1, figsize=[10,5])\n",
    "sbn.boxplot(data=results, x=\"away_score\", y=\"home_victory\", orient=\"h\").set(title=\"Boxplot grouping away score with victory\")\n",
    "plt.show()\n",
    "\n",
    "print(\"Away score correlation:\", round(np.corrcoef(results[\"home_victory\"], results[\"away_score\"])[0,1], 2))"
   ]
  },
  {
   "cell_type": "code",
   "execution_count": 11,
   "metadata": {},
   "outputs": [
    {
     "name": "stdout",
     "output_type": "stream",
     "text": [
      "percentage of goals that were penalty shots: 3.8\n",
      "percentage of goals that were own goals: 1.05\n",
      "percentage of games played on neutral turf: 26.3\n"
     ]
    }
   ],
   "source": [
    "\"\"\"Simple proportional stats for various goals and game types\"\"\"\n",
    "no_penalty, penalty = results.value_counts(\"penalty\")\n",
    "not_own, own = results.value_counts(\"own_goal\")\n",
    "not_neutral, neutral = results.value_counts(\"neutral\")\n",
    "\n",
    "print(\"percentage of goals that were penalty shots:\", round(100 * penalty / (penalty + no_penalty), 2))\n",
    "print(\"percentage of goals that were own goals:\", round(100 * own / (own + not_own), 2))\n",
    "print(\"percentage of games played on neutral turf:\", round(100 * neutral / (neutral + not_neutral), 2))"
   ]
  },
  {
   "cell_type": "code",
   "execution_count": 12,
   "metadata": {},
   "outputs": [
    {
     "data": {
      "image/png": "[encoded data removed]",
      "text/plain": [
       "<Figure size 640x480 with 2 Axes>"
      ]
     },
     "metadata": {},
     "output_type": "display_data"
    }
   ],
   "source": [
    "\"\"\"Correlation heatmap of non-categorical data\"\"\"\n",
    "correlation_values = results.corr(numeric_only=True)\n",
    "sbn.heatmap(correlation_values, annot=True, mask=np.triu(correlation_values), cmap=\"coolwarm\")\n",
    "plt.title(\"Correlation Heatmap\")\n",
    "plt.show()"
   ]
  },
  {
   "cell_type": "code",
   "execution_count": 13,
   "metadata": {},
   "outputs": [
    {
     "data": {
      "text/html": [
       "<div>\n",
       "<style scoped>\n",
       "    .dataframe tbody tr th:only-of-type {\n",
       "        vertical-align: middle;\n",
       "    }\n",
       "\n",
       "    .dataframe tbody tr th {\n",
       "        vertical-align: top;\n",
       "    }\n",
       "\n",
       "    .dataframe thead th {\n",
       "        text-align: right;\n",
       "    }\n",
       "</style>\n",
       "<table border=\"1\" class=\"dataframe\">\n",
       "  <thead>\n",
       "    <tr style=\"text-align: right;\">\n",
       "      <th></th>\n",
       "      <th>home_score</th>\n",
       "      <th>away_score</th>\n",
       "      <th>neutral</th>\n",
       "      <th>first_shooter</th>\n",
       "      <th>own_goal</th>\n",
       "      <th>penalty</th>\n",
       "      <th>draw</th>\n",
       "      <th>home_victory</th>\n",
       "      <th>shootout_required</th>\n",
       "      <th>home_team_Abkhazia</th>\n",
       "      <th>...</th>\n",
       "      <th>tournament_United Arab Emirates Friendship Tournament</th>\n",
       "      <th>tournament_VFF Cup</th>\n",
       "      <th>tournament_Vietnam Independence Cup</th>\n",
       "      <th>tournament_Viva World Cup</th>\n",
       "      <th>tournament_WAFF Championship</th>\n",
       "      <th>tournament_West African Cup</th>\n",
       "      <th>tournament_Windward Islands Tournament</th>\n",
       "      <th>tournament_World Unity Cup</th>\n",
       "      <th>tournament_Zambian Independence Tournament</th>\n",
       "      <th>tournament_Évence Coppée Trophy</th>\n",
       "    </tr>\n",
       "  </thead>\n",
       "  <tbody>\n",
       "    <tr>\n",
       "      <th>0</th>\n",
       "      <td>0</td>\n",
       "      <td>0</td>\n",
       "      <td>0</td>\n",
       "      <td>0</td>\n",
       "      <td>0</td>\n",
       "      <td>0</td>\n",
       "      <td>1</td>\n",
       "      <td>0</td>\n",
       "      <td>0</td>\n",
       "      <td>False</td>\n",
       "      <td>...</td>\n",
       "      <td>False</td>\n",
       "      <td>False</td>\n",
       "      <td>False</td>\n",
       "      <td>False</td>\n",
       "      <td>False</td>\n",
       "      <td>False</td>\n",
       "      <td>False</td>\n",
       "      <td>False</td>\n",
       "      <td>False</td>\n",
       "      <td>False</td>\n",
       "    </tr>\n",
       "  </tbody>\n",
       "</table>\n",
       "<p>1 rows × 835 columns</p>\n",
       "</div>"
      ],
      "text/plain": [
       "   home_score  away_score  neutral  first_shooter  own_goal  penalty  draw  \\\n",
       "0           0           0        0              0         0        0     1   \n",
       "\n",
       "   home_victory  shootout_required  home_team_Abkhazia  ...  \\\n",
       "0             0                  0               False  ...   \n",
       "\n",
       "   tournament_United Arab Emirates Friendship Tournament  tournament_VFF Cup  \\\n",
       "0                                              False                   False   \n",
       "\n",
       "   tournament_Vietnam Independence Cup  tournament_Viva World Cup  \\\n",
       "0                                False                      False   \n",
       "\n",
       "   tournament_WAFF Championship  tournament_West African Cup  \\\n",
       "0                         False                        False   \n",
       "\n",
       "   tournament_Windward Islands Tournament  tournament_World Unity Cup  \\\n",
       "0                                   False                       False   \n",
       "\n",
       "   tournament_Zambian Independence Tournament  tournament_Évence Coppée Trophy  \n",
       "0                                       False                            False  \n",
       "\n",
       "[1 rows x 835 columns]"
      ]
     },
     "execution_count": 13,
     "metadata": {},
     "output_type": "execute_result"
    }
   ],
   "source": [
    "\"\"\"One hot encoding for categorical data: home_team, away_tem, and tournament\"\"\"\n",
    "dummied_results = pd.get_dummies(results, columns=[\"home_team\"])\n",
    "dummied_results = pd.get_dummies(dummied_results, columns=[\"away_team\"])\n",
    "dummied_results = pd.get_dummies(dummied_results, columns=[\"tournament\"])\n",
    "\n",
    "dummied_results.head(n=1)"
   ]
  },
  {
   "cell_type": "code",
   "execution_count": 14,
   "metadata": {},
   "outputs": [
    {
     "data": {
      "text/html": [
       "<div>\n",
       "<style scoped>\n",
       "    .dataframe tbody tr th:only-of-type {\n",
       "        vertical-align: middle;\n",
       "    }\n",
       "\n",
       "    .dataframe tbody tr th {\n",
       "        vertical-align: top;\n",
       "    }\n",
       "\n",
       "    .dataframe thead th {\n",
       "        text-align: right;\n",
       "    }\n",
       "</style>\n",
       "<table border=\"1\" class=\"dataframe\">\n",
       "  <thead>\n",
       "    <tr style=\"text-align: right;\">\n",
       "      <th></th>\n",
       "      <th>home_score</th>\n",
       "      <th>away_score</th>\n",
       "      <th>neutral</th>\n",
       "      <th>draw</th>\n",
       "      <th>home_victory</th>\n",
       "      <th>home_team_Andorra</th>\n",
       "      <th>home_team_Argentina</th>\n",
       "      <th>home_team_Brazil</th>\n",
       "      <th>home_team_Liechtenstein</th>\n",
       "      <th>home_team_Luxembourg</th>\n",
       "      <th>...</th>\n",
       "      <th>away_team_Brazil</th>\n",
       "      <th>away_team_Cyprus</th>\n",
       "      <th>away_team_England</th>\n",
       "      <th>away_team_Germany</th>\n",
       "      <th>away_team_Liechtenstein</th>\n",
       "      <th>away_team_Luxembourg</th>\n",
       "      <th>away_team_Malta</th>\n",
       "      <th>away_team_San Marino</th>\n",
       "      <th>away_team_Spain</th>\n",
       "      <th>tournament_Friendly</th>\n",
       "    </tr>\n",
       "  </thead>\n",
       "  <tbody>\n",
       "    <tr>\n",
       "      <th>0</th>\n",
       "      <td>0</td>\n",
       "      <td>0</td>\n",
       "      <td>0</td>\n",
       "      <td>1</td>\n",
       "      <td>0</td>\n",
       "      <td>False</td>\n",
       "      <td>False</td>\n",
       "      <td>False</td>\n",
       "      <td>False</td>\n",
       "      <td>False</td>\n",
       "      <td>...</td>\n",
       "      <td>False</td>\n",
       "      <td>False</td>\n",
       "      <td>True</td>\n",
       "      <td>False</td>\n",
       "      <td>False</td>\n",
       "      <td>False</td>\n",
       "      <td>False</td>\n",
       "      <td>False</td>\n",
       "      <td>False</td>\n",
       "      <td>True</td>\n",
       "    </tr>\n",
       "  </tbody>\n",
       "</table>\n",
       "<p>1 rows × 23 columns</p>\n",
       "</div>"
      ],
      "text/plain": [
       "   home_score  away_score  neutral  draw  home_victory  home_team_Andorra  \\\n",
       "0           0           0        0     1             0              False   \n",
       "\n",
       "   home_team_Argentina  home_team_Brazil  home_team_Liechtenstein  \\\n",
       "0                False             False                    False   \n",
       "\n",
       "   home_team_Luxembourg  ...  away_team_Brazil  away_team_Cyprus  \\\n",
       "0                 False  ...             False             False   \n",
       "\n",
       "   away_team_England  away_team_Germany  away_team_Liechtenstein  \\\n",
       "0               True              False                    False   \n",
       "\n",
       "   away_team_Luxembourg  away_team_Malta  away_team_San Marino  \\\n",
       "0                 False            False                 False   \n",
       "\n",
       "   away_team_Spain  tournament_Friendly  \n",
       "0            False                 True  \n",
       "\n",
       "[1 rows x 23 columns]"
      ]
     },
     "execution_count": 14,
     "metadata": {},
     "output_type": "execute_result"
    }
   ],
   "source": [
    "\"\"\"Set an arbitrary significance level and drop all columns that don't meet this level\"\"\"\n",
    "SIG_LEVEL = .05\n",
    "\n",
    "significant = []\n",
    "for col in dummied_results.columns:\n",
    "    if np.abs(np.corrcoef(dummied_results[\"home_victory\"], dummied_results[col])[0,1]) > SIG_LEVEL:\n",
    "        significant.append(col)\n",
    "\n",
    "significant_results = dummied_results[significant]\n",
    "significant_results.head(n=1)"
   ]
  },
  {
   "cell_type": "code",
   "execution_count": 15,
   "metadata": {},
   "outputs": [
    {
     "name": "stdout",
     "output_type": "stream",
     "text": [
      "62372 records for training\n",
      "15594 records for testing\n"
     ]
    }
   ],
   "source": [
    "\"\"\"Create training data with hold out data to validate against and measure prediction accuracy\"\"\"\n",
    "response_variable = significant_results[[\"home_victory\"]]\n",
    "explanatory_variables = significant_results.loc[:, significant_results.columns != \"home_victory\"]\n",
    "\n",
    "explanatory_variables, validation_explanatory, response_variable, validation_response = train_test_split(explanatory_variables, response_variable, test_size=0.2, random_state=73)\n",
    "\n",
    "print(len(response_variable), \"records for training\")\n",
    "print(len(validation_response), \"records for testing\")"
   ]
  },
  {
   "cell_type": "code",
   "execution_count": 21,
   "metadata": {},
   "outputs": [
    {
     "name": "stdout",
     "output_type": "stream",
     "text": [
      "Intercept: [0.02873408]\n",
      "                   variable  coefficient\n",
      "0                home_score     7.050078\n",
      "1                away_score    -7.015505\n",
      "2                   neutral    -0.154516\n",
      "3                      draw    -7.469295\n",
      "4         home_team_Andorra    -0.030360\n",
      "5       home_team_Argentina     0.704154\n",
      "6          home_team_Brazil     0.181895\n",
      "7   home_team_Liechtenstein    -0.033326\n",
      "8      home_team_Luxembourg    -0.070167\n",
      "9           home_team_Malta    -0.081416\n",
      "10     home_team_San Marino    -0.024894\n",
      "11          home_team_Spain     0.100353\n",
      "12         away_team_Brazil    -0.443446\n",
      "13         away_team_Cyprus     0.003554\n",
      "14        away_team_England     0.456377\n",
      "15        away_team_Germany     0.147800\n",
      "16  away_team_Liechtenstein     0.011456\n",
      "17     away_team_Luxembourg    -0.000573\n",
      "18          away_team_Malta     0.007733\n",
      "19     away_team_San Marino    -0.022722\n",
      "20          away_team_Spain     0.108488\n",
      "21      tournament_Friendly     0.290156\n"
     ]
    }
   ],
   "source": [
    "\"\"\"Fit Logistic Regression model to training data\"\"\"\n",
    "model = LogisticRegression()\n",
    "model.fit(explanatory_variables, response_variable.values.ravel())\n",
    "\n",
    "coefficients = pd.DataFrame(model.coef_.T, columns=[\"coefficient\"])\n",
    "variables = pd.DataFrame(explanatory_variables.columns, columns=[\"variable\"])\n",
    "coefficient_summary = pd.concat([variables[\"variable\"], coefficients[\"coefficient\"]], axis=1)\n",
    "\n",
    "print(\"Intercept:\", model.intercept_)\n",
    "print(coefficient_summary)"
   ]
  },
  {
   "cell_type": "code",
   "execution_count": 30,
   "metadata": {},
   "outputs": [
    {
     "data": {
      "text/html": [
       "<div>\n",
       "<style scoped>\n",
       "    .dataframe tbody tr th:only-of-type {\n",
       "        vertical-align: middle;\n",
       "    }\n",
       "\n",
       "    .dataframe tbody tr th {\n",
       "        vertical-align: top;\n",
       "    }\n",
       "\n",
       "    .dataframe thead th {\n",
       "        text-align: right;\n",
       "    }\n",
       "</style>\n",
       "<table border=\"1\" class=\"dataframe\">\n",
       "  <thead>\n",
       "    <tr style=\"text-align: right;\">\n",
       "      <th></th>\n",
       "      <th>lose_prob</th>\n",
       "      <th>win_prob</th>\n",
       "      <th>prediction</th>\n",
       "      <th>correct</th>\n",
       "    </tr>\n",
       "  </thead>\n",
       "  <tbody>\n",
       "    <tr>\n",
       "      <th>0</th>\n",
       "      <td>1.000000e+00</td>\n",
       "      <td>5.932081e-13</td>\n",
       "      <td>0</td>\n",
       "      <td>0</td>\n",
       "    </tr>\n",
       "    <tr>\n",
       "      <th>1</th>\n",
       "      <td>0.000000e+00</td>\n",
       "      <td>1.000000e+00</td>\n",
       "      <td>1</td>\n",
       "      <td>1</td>\n",
       "    </tr>\n",
       "    <tr>\n",
       "      <th>2</th>\n",
       "      <td>0.000000e+00</td>\n",
       "      <td>1.000000e+00</td>\n",
       "      <td>1</td>\n",
       "      <td>1</td>\n",
       "    </tr>\n",
       "    <tr>\n",
       "      <th>3</th>\n",
       "      <td>4.218867e-07</td>\n",
       "      <td>9.999996e-01</td>\n",
       "      <td>1</td>\n",
       "      <td>1</td>\n",
       "    </tr>\n",
       "    <tr>\n",
       "      <th>4</th>\n",
       "      <td>1.000000e+00</td>\n",
       "      <td>7.928769e-10</td>\n",
       "      <td>0</td>\n",
       "      <td>0</td>\n",
       "    </tr>\n",
       "  </tbody>\n",
       "</table>\n",
       "</div>"
      ],
      "text/plain": [
       "      lose_prob      win_prob  prediction  correct\n",
       "0  1.000000e+00  5.932081e-13           0        0\n",
       "1  0.000000e+00  1.000000e+00           1        1\n",
       "2  0.000000e+00  1.000000e+00           1        1\n",
       "3  4.218867e-07  9.999996e-01           1        1\n",
       "4  1.000000e+00  7.928769e-10           0        0"
      ]
     },
     "execution_count": 30,
     "metadata": {},
     "output_type": "execute_result"
    }
   ],
   "source": [
    "\"\"\"Make predictions using hold out data\"\"\"\n",
    "predictions = pd.DataFrame(model.predict_proba(validation_explanatory), columns=[\"lose_prob\", \"win_prob\"])\n",
    "predictions[\"prediction\"] = model.predict(validation_explanatory)\n",
    "predictions[\"correct\"] = validation_response.reset_index()[\"home_victory\"]\n",
    "predictions.head()"
   ]
  },
  {
   "cell_type": "code",
   "execution_count": 32,
   "metadata": {},
   "outputs": [
    {
     "name": "stdout",
     "output_type": "stream",
     "text": [
      "Mean Absolute Error: 0.0053\n",
      "Percentage of correct predictions: 99.47%\n"
     ]
    }
   ],
   "source": [
    "\"\"\"Calculate error rates and prediction accuracy\"\"\"\n",
    "validation = mean_absolute_error(predictions[\"prediction\"], validation_response)\n",
    "correct_predictions =  predictions.loc[predictions[\"prediction\"] == predictions[\"correct\"]]\n",
    "\n",
    "print(\"Mean Absolute Error:\", round(validation, 4))\n",
    "print(f\"Percentage of correct predictions: {100 * len(correct_predictions) / len(predictions):.2f}%\")"
   ]
  }
 ],
 "metadata": {
  "kernelspec": {
   "display_name": "Python 3",
   "language": "python",
   "name": "python3"
  },
  "language_info": {
   "codemirror_mode": {
    "name": "ipython",
    "version": 3
   },
   "file_extension": ".py",
   "mimetype": "text/x-python",
   "name": "python",
   "nbconvert_exporter": "python",
   "pygments_lexer": "ipython3",
   "version": "3.10.12"
  }
 },
 "nbformat": 4,
 "nbformat_minor": 2
}

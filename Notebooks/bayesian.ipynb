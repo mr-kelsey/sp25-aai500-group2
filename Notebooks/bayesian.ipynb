{
 "cells": [
  {
   "cell_type": "code",
   "execution_count": 2,
   "metadata": {},
   "outputs": [],
   "source": [
    "import pandas as pd\n",
    "import numpy as np\n",
    "import matplotlib.pyplot as plt\n",
    "import seaborn as sns\n",
    "import statsmodels.api as sm\n",
    "import statsmodels.formula.api as smf\n",
    "from sklearn.model_selection import train_test_split\n",
    "from sklearn.metrics import accuracy_score, confusion_matrix, roc_auc_score\n",
    "from scipy.stats import beta"
   ]
  },
  {
   "cell_type": "code",
   "execution_count": 3,
   "metadata": {},
   "outputs": [
    {
     "name": "stdout",
     "output_type": "stream",
     "text": [
      "\n",
      " Dataset Overview:\n",
      "\n",
      "<class 'pandas.core.frame.DataFrame'>\n",
      "Index: 77966 entries, 0 to 47979\n",
      "Data columns (total 23 columns):\n",
      " #   Column                   Non-Null Count  Dtype\n",
      "---  ------                   --------------  -----\n",
      " 0   home_score               77966 non-null  int64\n",
      " 1   away_score               77966 non-null  int64\n",
      " 2   neutral                  77966 non-null  int64\n",
      " 3   draw                     77966 non-null  int64\n",
      " 4   home_victory             77966 non-null  int64\n",
      " 5   home_team_Andorra        77966 non-null  bool \n",
      " 6   home_team_Argentina      77966 non-null  bool \n",
      " 7   home_team_Brazil         77966 non-null  bool \n",
      " 8   home_team_Liechtenstein  77966 non-null  bool \n",
      " 9   home_team_Luxembourg     77966 non-null  bool \n",
      " 10  home_team_Malta          77966 non-null  bool \n",
      " 11  home_team_San Marino     77966 non-null  bool \n",
      " 12  home_team_Spain          77966 non-null  bool \n",
      " 13  away_team_Brazil         77966 non-null  bool \n",
      " 14  away_team_Cyprus         77966 non-null  bool \n",
      " 15  away_team_England        77966 non-null  bool \n",
      " 16  away_team_Germany        77966 non-null  bool \n",
      " 17  away_team_Liechtenstein  77966 non-null  bool \n",
      " 18  away_team_Luxembourg     77966 non-null  bool \n",
      " 19  away_team_Malta          77966 non-null  bool \n",
      " 20  away_team_San Marino     77966 non-null  bool \n",
      " 21  away_team_Spain          77966 non-null  bool \n",
      " 22  tournament_Friendly      77966 non-null  bool \n",
      "dtypes: bool(18), int64(5)\n",
      "memory usage: 4.9 MB\n"
     ]
    }
   ],
   "source": [
    "\"\"\"Read in and handle data so that it is consistent with data found in logorithmic regression file\"\"\"\n",
    "# Read in multiple file for combination\n",
    "filenames = [\"results\", \"goalscorers\", \"shootouts\"]\n",
    "dataframes = {}\n",
    "for filename in filenames:\n",
    "    df = pd.read_csv(f\"/home/pnandini/aai_jupyter/Data/{filename}.csv\")\n",
    "    dataframes[filename] = df\n",
    "\n",
    "# join the files\n",
    "results = dataframes[\"results\"].join(dataframes[\"shootouts\"].set_index([\"date\", \"home_team\", \"away_team\"]), on=[\"date\", \"home_team\", \"away_team\"])\n",
    "results = results.join(dataframes[\"goalscorers\"].set_index([\"date\", \"home_team\", \"away_team\"]), on=[\"date\", \"home_team\", \"away_team\"])\n",
    "\n",
    "# covert data types\n",
    "results[\"neutral\"] = results[\"neutral\"].astype(\"int\")\n",
    "results[\"own_goal\"] = (results[\"own_goal\"] == True).astype(\"int\")\n",
    "results[\"penalty\"] = (results[\"penalty\"] == True).astype(\"int\")\n",
    "results[\"first_shooter\"] = (results[\"first_shooter\"] == results[\"home_team\"]).astype(\"int\")\n",
    "\n",
    "# add new fields\n",
    "results[\"draw\"] = (results[\"home_score\"] == results[\"away_score\"]).astype(\"int\")\n",
    "results[\"home_victory\"] = (results[\"home_score\"] > results[\"away_score\"]).astype(\"int\")\n",
    "results[\"shootout_required\"] = (results[\"winner\"].notnull()).astype(\"int\")\n",
    "\n",
    "# modify added fields to reflect data interaction\n",
    "results.loc[results[\"home_team\"] == results[\"winner\"], \"home_victory\"] = 1\n",
    "results.loc[results[\"winner\"].notnull(), \"draw\"] = 0\n",
    "\n",
    "# remove superfluous data\n",
    "results = results.drop(columns=[\"date\", \"city\", \"country\", \"winner\", \"team\", \"scorer\", \"minute\"])\n",
    "\n",
    "# one hot encode dummy data for categorical columns\n",
    "dummied_results = pd.get_dummies(results, columns=[\"home_team\"])\n",
    "dummied_results = pd.get_dummies(dummied_results, columns=[\"away_team\"])\n",
    "dummied_results = pd.get_dummies(dummied_results, columns=[\"tournament\"])\n",
    "\n",
    "# Set an arbitrary significance level and drop all columns that don't meet this level\n",
    "SIG_LEVEL = .05\n",
    "\n",
    "significant = []\n",
    "for col in dummied_results.columns:\n",
    "    if np.abs(np.corrcoef(dummied_results[\"home_victory\"], dummied_results[col])[0,1]) > SIG_LEVEL:\n",
    "        significant.append(col)\n",
    "\n",
    "df = dummied_results[significant]\n",
    "\n",
    "#  Display dataset info\n",
    "print(\"\\n Dataset Overview:\\n\")\n",
    "df.info()"
   ]
  },
  {
   "cell_type": "code",
   "execution_count": null,
   "metadata": {},
   "outputs": [
    {
     "name": "stdout",
     "output_type": "stream",
     "text": [
      "41352 77966\n",
      "The home victory and the number of matches   41352 77966\n",
      "Posterior distribution parameters: alpha = 41353,  beta = 36615\n",
      "Mean estimate: 0.53\n",
      "Median estimate: 0.53\n",
      "95% Credible interval: [0.53, 0.53]\n"
     ]
    }
   ],
   "source": [
    "\n",
    "#Bayesian Inference\n",
    "\n",
    "#(a)Given data\n",
    "x_a = df[\"home_victory\"].sum()\n",
    "n_a = len(df)\n",
    "print(\"The home victory and the number of matches  \",x_a, n_a)\n",
    "\n",
    "#Assuming uniform beta prior(1,1)\n",
    "alpha_prior = 1\n",
    "beta_prior = 1\n",
    "\n",
    "#Posterior parameters\n",
    "alpha_posterior_hv = alpha_prior + x_a\n",
    "beta_posterior_hv = beta_prior + (n_a - x_a)\n",
    "\n",
    "#Compute posterior distribution\n",
    "posterior_dist_hv = beta(alpha_posterior_hv,beta_posterior_hv)\n",
    "mean_estimate = posterior_dist_hv.mean()\n",
    "median_estimate = posterior_dist_hv.median()\n",
    "\n",
    "credible_interval = posterior_dist_hv.interval(0.95)\n",
    "\n",
    "#Print results\n",
    "print(\"Posterior distribution parameters: alpha = {},  beta = {}\".format(alpha_posterior_hv, beta_posterior_hv) )\n",
    "print(\"Mean estimate: {:.2f}\".format(mean_estimate) )\n",
    "print(\"Median estimate: {:.2f}\".format(median_estimate) )\n",
    "print(\"95% Credible interval: [{:.2f}, {:.2f}]\".format(credible_interval[0],credible_interval[1]))"
   ]
  },
  {
   "cell_type": "code",
   "execution_count": 5,
   "metadata": {},
   "outputs": [
    {
     "data": {
      "image/png": "[encoded data removed]",
      "text/plain": [
       "<Figure size 640x480 with 1 Axes>"
      ]
     },
     "metadata": {},
     "output_type": "display_data"
    }
   ],
   "source": [
    "# Plot between 0 and 1 with .01 steps.\n",
    "x_axis = np.arange(0, 1, .01)\n",
    "\n",
    "# Plot the posterior distribution\n",
    "plt.plot(x_axis, posterior_dist_hv.pdf(x_axis), label='Posterior Distribution', color='blue')\n",
    "plt.fill_between(x_axis, posterior_dist_hv.pdf(x_axis), alpha=0.5, color='blue')\n",
    "plt.title(\"Posterior Distribution for Probability of Home Victory\")\n",
    "plt.xlabel(\"Probability of Home Victory\")\n",
    "plt.ylabel(\"Density\")\n",
    "plt.show()"
   ]
  }
 ],
 "metadata": {
  "kernelspec": {
   "display_name": "aai_500",
   "language": "python",
   "name": "python3"
  },
  "language_info": {
   "codemirror_mode": {
    "name": "ipython",
    "version": 3
   },
   "file_extension": ".py",
   "mimetype": "text/x-python",
   "name": "python",
   "nbconvert_exporter": "python",
   "pygments_lexer": "ipython3",
   "version": "3.11.11"
  }
 },
 "nbformat": 4,
 "nbformat_minor": 2
}

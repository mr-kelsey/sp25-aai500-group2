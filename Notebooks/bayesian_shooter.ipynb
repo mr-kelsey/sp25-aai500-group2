{
 "cells": [
  {
   "cell_type": "code",
   "execution_count": 603,
   "metadata": {},
   "outputs": [],
   "source": [
    "\"\"\"Import statements as required\"\"\"\n",
    "import pandas as pd\n",
    "import numpy as np\n",
    "import seaborn as sns\n",
    "import matplotlib.pyplot as plt\n",
    "import statsmodels.api as sm\n",
    "import statsmodels.formula.api as smf\n",
    "from scipy.stats import chi2_contingency\n",
    "from sklearn.linear_model import LinearRegression\n",
    "import statsmodels.api as sm # use stats models for basic linear regression\n",
    "from scipy.stats import beta"
   ]
  },
  {
   "cell_type": "code",
   "execution_count": 604,
   "metadata": {},
   "outputs": [
    {
     "data": {
      "text/html": [
       "<div>\n",
       "<style scoped>\n",
       "    .dataframe tbody tr th:only-of-type {\n",
       "        vertical-align: middle;\n",
       "    }\n",
       "\n",
       "    .dataframe tbody tr th {\n",
       "        vertical-align: top;\n",
       "    }\n",
       "\n",
       "    .dataframe thead th {\n",
       "        text-align: right;\n",
       "    }\n",
       "</style>\n",
       "<table border=\"1\" class=\"dataframe\">\n",
       "  <thead>\n",
       "    <tr style=\"text-align: right;\">\n",
       "      <th></th>\n",
       "      <th>date</th>\n",
       "      <th>home_team</th>\n",
       "      <th>away_team</th>\n",
       "      <th>winner</th>\n",
       "      <th>first_shooter</th>\n",
       "    </tr>\n",
       "  </thead>\n",
       "  <tbody>\n",
       "    <tr>\n",
       "      <th>0</th>\n",
       "      <td>1967-08-22</td>\n",
       "      <td>India</td>\n",
       "      <td>Taiwan</td>\n",
       "      <td>Taiwan</td>\n",
       "      <td>NaN</td>\n",
       "    </tr>\n",
       "    <tr>\n",
       "      <th>1</th>\n",
       "      <td>1971-11-14</td>\n",
       "      <td>South Korea</td>\n",
       "      <td>Vietnam Republic</td>\n",
       "      <td>South Korea</td>\n",
       "      <td>NaN</td>\n",
       "    </tr>\n",
       "    <tr>\n",
       "      <th>2</th>\n",
       "      <td>1972-05-07</td>\n",
       "      <td>South Korea</td>\n",
       "      <td>Iraq</td>\n",
       "      <td>Iraq</td>\n",
       "      <td>NaN</td>\n",
       "    </tr>\n",
       "    <tr>\n",
       "      <th>3</th>\n",
       "      <td>1972-05-17</td>\n",
       "      <td>Thailand</td>\n",
       "      <td>South Korea</td>\n",
       "      <td>South Korea</td>\n",
       "      <td>NaN</td>\n",
       "    </tr>\n",
       "    <tr>\n",
       "      <th>4</th>\n",
       "      <td>1972-05-19</td>\n",
       "      <td>Thailand</td>\n",
       "      <td>Cambodia</td>\n",
       "      <td>Thailand</td>\n",
       "      <td>NaN</td>\n",
       "    </tr>\n",
       "  </tbody>\n",
       "</table>\n",
       "</div>"
      ],
      "text/plain": [
       "         date    home_team         away_team       winner first_shooter\n",
       "0  1967-08-22        India            Taiwan       Taiwan           NaN\n",
       "1  1971-11-14  South Korea  Vietnam Republic  South Korea           NaN\n",
       "2  1972-05-07  South Korea              Iraq         Iraq           NaN\n",
       "3  1972-05-17     Thailand       South Korea  South Korea           NaN\n",
       "4  1972-05-19     Thailand          Cambodia     Thailand           NaN"
      ]
     },
     "execution_count": 604,
     "metadata": {},
     "output_type": "execute_result"
    }
   ],
   "source": [
    "\"\"\"Defining the data frame for the shootout from the csv file\"\"\"\n",
    "df = pd.read_csv('https://raw.githubusercontent.com/pnandini-sdu/sp25-aai500-group2/refs/heads/main/Data/shootouts.csv')\n",
    "df.head()"
   ]
  },
  {
   "cell_type": "code",
   "execution_count": 605,
   "metadata": {},
   "outputs": [],
   "source": [
    "#Calculating Home and Away teams winning data\n",
    "home_wins = (df['winner'] == df['home_team']).sum()\n",
    "away_wins = (df['winner'] == df['away_team']).sum()\n",
    "total_matches = len(df)\n",
    "\n",
    "#Cleaning data frame to remove rows where first shooter is not available\n",
    "df_clean = df[df['first_shooter'].notna()]\n",
    "\n",
    "# Resetting index in the DataFrame to reset the sequence\n",
    "df_clean = df_clean.reset_index(drop=True)\n"
   ]
  },
  {
   "cell_type": "code",
   "execution_count": 606,
   "metadata": {},
   "outputs": [
    {
     "name": "stdout",
     "output_type": "stream",
     "text": [
      "Home win percentage: 53.33\n",
      "Away win percentage: 46.51\n",
      "First shooter win percentage: 53.91\n"
     ]
    }
   ],
   "source": [
    "#Calculting win rate of Home and Away teams\n",
    "home_win_rate = home_wins / total_matches * 100\n",
    "away_win_rate = away_wins / total_matches * 100\n",
    "\n",
    "#Calculting win rate of First shooter\n",
    "first_shooter_wins = (df_clean['winner'] == df_clean['first_shooter']).sum()\n",
    "total_matches_clean = len(df_clean)\n",
    "first_shooter_win_rate = first_shooter_wins / total_matches_clean * 100\n",
    "\n",
    "#Printing win rate of Home, Away and First shooter\n",
    "print(\"Home win percentage: {:.2f}\".format(home_win_rate))\n",
    "print(\"Away win percentage: {:.2f}\".format(away_win_rate))\n",
    "print(\"First shooter win percentage: {:.2f}\".format(first_shooter_win_rate))"
   ]
  },
  {
   "cell_type": "code",
   "execution_count": 607,
   "metadata": {},
   "outputs": [
    {
     "data": {
      "image/png": "[encoded data removed]",
      "text/plain": [
       "<Figure size 1000x800 with 2 Axes>"
      ]
     },
     "metadata": {},
     "output_type": "display_data"
    }
   ],
   "source": [
    "#Plotting Bar plots to visualize win rate for Home vs  Away teams and First Shooter.\n",
    "\n",
    "#Home vs Away Win Rate\n",
    "plt.figure(figsize=(10,8))\n",
    "plt.subplot(1, 2, 1)\n",
    "sns.barplot(x=['Home Wins', 'Away Wins'], y=[home_win_rate, away_win_rate])\n",
    "plt.ylabel('Win Percentage')\n",
    "plt.title('Home vs. Away Win Rate')\n",
    "\n",
    "#First Shooter Impact\n",
    "plt.subplot(1, 2, 2)\n",
    "sns.barplot(x=['First Shooter Wins', 'Others'], y=[first_shooter_win_rate, 100 - first_shooter_win_rate])\n",
    "plt.ylabel('Win Percentage')\n",
    "plt.title('Win Rate When Shooting First')\n",
    "plt.show()"
   ]
  },
  {
   "cell_type": "code",
   "execution_count": 608,
   "metadata": {},
   "outputs": [
    {
     "name": "stdout",
     "output_type": "stream",
     "text": [
      "         date       home_team       away_team          winner   first_shooter  \\\n",
      "0  1976-06-20  Czechoslovakia         Germany  Czechoslovakia  Czechoslovakia   \n",
      "1  1979-05-22       Argentina     Netherlands       Argentina       Argentina   \n",
      "2  1980-06-21           Italy  Czechoslovakia  Czechoslovakia           Italy   \n",
      "3  1982-07-08         Germany          France         Germany          France   \n",
      "4  1984-06-24         Denmark           Spain           Spain         Denmark   \n",
      "\n",
      "   home_team_binary  away_team_binary  first_shooter_binary  \n",
      "0                 1                 0                     1  \n",
      "1                 1                 0                     1  \n",
      "2                 0                 1                     0  \n",
      "3                 1                 0                     0  \n",
      "4                 0                 1                     0  \n"
     ]
    }
   ],
   "source": [
    "# Adding the binary columns for each relevant field\n",
    "df_clean['home_team_binary'] = (df_clean['home_team'] == df_clean['winner']).astype(int)\n",
    "df_clean['away_team_binary'] = (df_clean['away_team'] == df_clean['winner']).astype(int)\n",
    "df_clean['first_shooter_binary'] = (df_clean['first_shooter'] == df_clean['winner']).astype(int)\n",
    "print(df_clean.head())"
   ]
  },
  {
   "cell_type": "code",
   "execution_count": 609,
   "metadata": {},
   "outputs": [],
   "source": [
    "# Creating a frequency tables - Winner and first shooter\n",
    "winner_table = pd.crosstab(df_clean['winner'], df_clean['first_shooter'])"
   ]
  },
  {
   "cell_type": "code",
   "execution_count": 610,
   "metadata": {},
   "outputs": [
    {
     "name": "stdout",
     "output_type": "stream",
     "text": [
      "The p-value is 0.00\n",
      "Reject Null Hypothesis H0: There is a relationship between first shooter and winner.\n"
     ]
    }
   ],
   "source": [
    "# Perform chi-square test to determine if there is a relationship between first shooter and winner\n",
    "def  chisquare_test(table):\n",
    "    stat, p_value, dof, expected = chi2_contingency(table, correction=False)\n",
    "    # Interpret p-value\n",
    "    alpha = 0.05\n",
    "    print(\"The p-value is {:.2f}\".format(p_value))\n",
    "    if p_value <= alpha:\n",
    "        print('Reject Null Hypothesis H0: There is a relationship between first shooter and winner.')\n",
    "    else:\n",
    "        print('Fail to reject Null Hypothesis Ha: There is no relationship between first shooter and winner.')\n",
    "\n",
    "chisquare_test(winner_table)"
   ]
  },
  {
   "cell_type": "code",
   "execution_count": 611,
   "metadata": {},
   "outputs": [
    {
     "name": "stdout",
     "output_type": "stream",
     "text": [
      "     country  win_count  first_shooter_count\n",
      "0  Argentina         14                    8\n",
      "1     Brazil          9                    9\n",
      "2    Uruguay          9                    8\n",
      "3      Italy          7                   10\n",
      "4     Mexico          7                    7\n"
     ]
    }
   ],
   "source": [
    "#Calculating number of winning and first shooter for by country\n",
    "winning_counts = df_clean['winner'].value_counts()\n",
    "first_shooter_counts = df_clean['first_shooter'].value_counts()\n",
    "\n",
    "#Creating new data frame to summarize - Country, Win count and First shooter count\n",
    "country_data = pd.DataFrame({'country': winning_counts.index, 'win_count': winning_counts.values, 'first_shooter_count': first_shooter_counts.reindex(winning_counts.index, fill_value=0).values})\n",
    "print(country_data.head())"
   ]
  },
  {
   "cell_type": "code",
   "execution_count": 612,
   "metadata": {},
   "outputs": [
    {
     "name": "stdout",
     "output_type": "stream",
     "text": [
      "Coefficients(Slope):0.75\n",
      "First Shooter:0.75\n",
      "Intercept: 0.88\n",
      "                            OLS Regression Results                            \n",
      "==============================================================================\n",
      "Dep. Variable:              win_count   R-squared:                       0.630\n",
      "Model:                            OLS   Adj. R-squared:                  0.626\n",
      "Method:                 Least Squares   F-statistic:                     138.0\n",
      "Date:                Wed, 19 Feb 2025   Prob (F-statistic):           3.53e-19\n",
      "Time:                        00:07:06   Log-Likelihood:                -146.70\n",
      "No. Observations:                  83   AIC:                             297.4\n",
      "Df Residuals:                      81   BIC:                             302.2\n",
      "Df Model:                           1                                         \n",
      "Covariance Type:            nonrobust                                         \n",
      "=======================================================================================\n",
      "                          coef    std err          t      P>|t|      [0.025      0.975]\n",
      "---------------------------------------------------------------------------------------\n",
      "const                   0.8785      0.225      3.900      0.000       0.430       1.327\n",
      "first_shooter_count     0.7516      0.064     11.748      0.000       0.624       0.879\n",
      "==============================================================================\n",
      "Omnibus:                       46.161   Durbin-Watson:                   1.424\n",
      "Prob(Omnibus):                  0.000   Jarque-Bera (JB):              181.879\n",
      "Skew:                           1.712   Prob(JB):                     3.20e-40\n",
      "Kurtosis:                       9.393   Cond. No.                         5.25\n",
      "==============================================================================\n",
      "\n",
      "Notes:\n",
      "[1] Standard Errors assume that the covariance matrix of the errors is correctly specified.\n"
     ]
    }
   ],
   "source": [
    "#Defining dependent variable Y for winner and independent variable X for first shooter\n",
    "X = country_data[['first_shooter_count']]\n",
    "y = country_data['win_count']\n",
    "\n",
    "#Creating and fit the multiple regression model\n",
    "regression_model = LinearRegression()\n",
    "regression_model.fit(X,y)\n",
    "\n",
    "#Get the coefficient and intercept\n",
    "coefficients = regression_model.coef_\n",
    "intercept = regression_model.intercept_\n",
    "\n",
    "print(\"Coefficients(Slope):{:.2f}\".format(coefficients[0]))\n",
    "print(\"First Shooter:{:.2f}\".format(coefficients[0]))\n",
    "print(\"Intercept: {:.2f}\".format(intercept))\n",
    "\n",
    "#Predicted value of Winner country when they are also first shooter\n",
    "#y_pred = regression_model.predict(X)\n",
    "#print(\"Predicted value of winning by being fisrt shooter: \",y_pred)\n",
    "\n",
    "X1 = sm.add_constant(X) # adds constant to the model\n",
    "model = sm.OLS(y, X1).fit()\n",
    "print(model.summary())"
   ]
  },
  {
   "cell_type": "code",
   "execution_count": 613,
   "metadata": {},
   "outputs": [
    {
     "data": {
      "text/html": [
       "<div>\n",
       "<style scoped>\n",
       "    .dataframe tbody tr th:only-of-type {\n",
       "        vertical-align: middle;\n",
       "    }\n",
       "\n",
       "    .dataframe tbody tr th {\n",
       "        vertical-align: top;\n",
       "    }\n",
       "\n",
       "    .dataframe thead th {\n",
       "        text-align: right;\n",
       "    }\n",
       "</style>\n",
       "<table border=\"1\" class=\"dataframe\">\n",
       "  <thead>\n",
       "    <tr style=\"text-align: right;\">\n",
       "      <th></th>\n",
       "      <th>win_count</th>\n",
       "      <th>first_shooter_count</th>\n",
       "    </tr>\n",
       "  </thead>\n",
       "  <tbody>\n",
       "    <tr>\n",
       "      <th>count</th>\n",
       "      <td>83.000000</td>\n",
       "      <td>83.000000</td>\n",
       "    </tr>\n",
       "    <tr>\n",
       "      <th>mean</th>\n",
       "      <td>2.771084</td>\n",
       "      <td>2.518072</td>\n",
       "    </tr>\n",
       "    <tr>\n",
       "      <th>std</th>\n",
       "      <td>2.344299</td>\n",
       "      <td>2.476039</td>\n",
       "    </tr>\n",
       "    <tr>\n",
       "      <th>min</th>\n",
       "      <td>1.000000</td>\n",
       "      <td>0.000000</td>\n",
       "    </tr>\n",
       "    <tr>\n",
       "      <th>25%</th>\n",
       "      <td>1.000000</td>\n",
       "      <td>1.000000</td>\n",
       "    </tr>\n",
       "    <tr>\n",
       "      <th>50%</th>\n",
       "      <td>2.000000</td>\n",
       "      <td>2.000000</td>\n",
       "    </tr>\n",
       "    <tr>\n",
       "      <th>75%</th>\n",
       "      <td>4.000000</td>\n",
       "      <td>4.000000</td>\n",
       "    </tr>\n",
       "    <tr>\n",
       "      <th>max</th>\n",
       "      <td>14.000000</td>\n",
       "      <td>11.000000</td>\n",
       "    </tr>\n",
       "  </tbody>\n",
       "</table>\n",
       "</div>"
      ],
      "text/plain": [
       "       win_count  first_shooter_count\n",
       "count  83.000000            83.000000\n",
       "mean    2.771084             2.518072\n",
       "std     2.344299             2.476039\n",
       "min     1.000000             0.000000\n",
       "25%     1.000000             1.000000\n",
       "50%     2.000000             2.000000\n",
       "75%     4.000000             4.000000\n",
       "max    14.000000            11.000000"
      ]
     },
     "execution_count": 613,
     "metadata": {},
     "output_type": "execute_result"
    }
   ],
   "source": [
    "#describing country data\n",
    "country_data.describe()"
   ]
  },
  {
   "cell_type": "code",
   "execution_count": 614,
   "metadata": {},
   "outputs": [],
   "source": [
    "#Bayesian Inference\n",
    "\n",
    "#(a)Given data\n",
    "x_a = df_clean['first_shooter_binary'].sum()\n",
    "n_a = total_matches_clean\n",
    "\n",
    "#Assuming uniform beta prior(1,1)\n",
    "alpha_prior = 1\n",
    "beta_prior = 1\n",
    "\n",
    "#Posterior parameters\n",
    "alpha_posterior_fs = alpha_prior + x_a\n",
    "beta_posterior_fs = beta_prior + (n_a - x_a)\n",
    "\n",
    "#Compute posterior distribution\n",
    "posterior_dist_fs = beta(alpha_posterior_fs,beta_posterior_fs)"
   ]
  },
  {
   "cell_type": "code",
   "execution_count": 615,
   "metadata": {},
   "outputs": [
    {
     "data": {
      "image/png": "[encoded data removed]",
      "text/plain": [
       "<Figure size 640x480 with 1 Axes>"
      ]
     },
     "metadata": {},
     "output_type": "display_data"
    }
   ],
   "source": [
    "# Plot between -4 and 4 with .01 steps.\n",
    "x_axis = np.arange(0, 1, 0.01)\n",
    "\n",
    "# Plot the posterior distribution\n",
    "plt.plot(x_axis, posterior_dist_fs.pdf(x_axis), label='Posterior Distribution', color='blue')\n",
    "plt.fill_between(x_axis, posterior_dist_fs.pdf(x_axis), alpha=0.5, color='blue')\n",
    "plt.title(\"Posterior Distribution of First Shooter Win Probability\")\n",
    "plt.xlabel(\"Probability of Winning when Shooting First\")\n",
    "plt.ylabel(\"Density\")\n",
    "plt.show()\n"
   ]
  },
  {
   "cell_type": "code",
   "execution_count": 616,
   "metadata": {},
   "outputs": [
    {
     "name": "stdout",
     "output_type": "stream",
     "text": [
      "The mean_estimate when first shooter is winner 0.54\n",
      "The median_estimate when first shooter is winner 0.54\n",
      "The credible_interval when first shooter is winner [0.47,0.60] \n"
     ]
    }
   ],
   "source": [
    "#Calculating the point estimates\n",
    "mean_estimate_fs = posterior_dist_fs.mean()\n",
    "median_estimate_fs = posterior_dist_fs.median()\n",
    "\n",
    "#Calculating credible interval\n",
    "credible_interval_fs = posterior_dist_fs.interval(0.95)\n",
    "\n",
    "print(\"The mean_estimate when first shooter is winner {:.2f}\".format(mean_estimate_fs))\n",
    "print(\"The median_estimate when first shooter is winner {:.2f}\".format(median_estimate_fs))\n",
    "print(\"The credible_interval when first shooter is winner [{:.2f},{:.2f}] \".format(credible_interval_fs[0], credible_interval_fs[1]))"
   ]
  }
 ],
 "metadata": {
  "kernelspec": {
   "display_name": "aai_500",
   "language": "python",
   "name": "python3"
  },
  "language_info": {
   "codemirror_mode": {
    "name": "ipython",
    "version": 3
   },
   "file_extension": ".py",
   "mimetype": "text/x-python",
   "name": "python",
   "nbconvert_exporter": "python",
   "pygments_lexer": "ipython3",
   "version": "3.11.11"
  }
 },
 "nbformat": 4,
 "nbformat_minor": 2
}

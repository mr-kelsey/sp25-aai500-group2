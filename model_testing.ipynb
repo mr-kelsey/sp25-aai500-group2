{
  "cells": [
    {
      "cell_type": "code",
      "source": [
        "from google.colab import files\n",
        "import pandas as pd\n",
        "import numpy as np\n",
        "import matplotlib.pyplot as plt\n",
        "import seaborn as sns\n",
        "from sklearn.model_selection import train_test_split\n",
        "from sklearn.linear_model import LogisticRegression\n",
        "from sklearn.preprocessing import LabelEncoder\n",
        "from sklearn.metrics import accuracy_score, confusion_matrix, roc_auc_score\n",
        "\n",
        "#  Upload dataset\n",
        "uploaded = files.upload()\n",
        "filename = list(uploaded.keys())[0]\n",
        "df = pd.read_csv(filename)\n",
        "\n",
        "#  Data Cleaning\n",
        "df.replace([np.inf, -np.inf], np.nan, inplace=True)\n",
        "df.fillna(df.mean(), inplace=True)\n",
        "\n",
        "#  Encode categorical variables\n",
        "categorical_cols = df.select_dtypes(include=['object']).columns\n",
        "label_encoder = LabelEncoder()\n",
        "for col in categorical_cols:\n",
        "    df[col] = label_encoder.fit_transform(df[col])\n",
        "\n",
        "#  Feature Engineering\n",
        "df[\"goal_diff\"] = df[\"home_score\"] - df[\"away_score\"]\n",
        "\n",
        "#  Define features (X) and target (y)\n",
        "X = df.drop(columns=[\"home_team_victory\"])\n",
        "y = df[\"home_team_victory\"]\n",
        "\n",
        "#  Train-Test Split\n",
        "X_train, X_test, y_train, y_test = train_test_split(X, y, test_size=0.2, random_state=42, stratify=y)\n",
        "\n",
        "#  Train Logistic Regression (FAST METHOD)\n",
        "logit_model = LogisticRegression(solver='liblinear', max_iter=300, penalty='l2')\n",
        "logit_model.fit(X_train, y_train)\n",
        "\n",
        "#  Predict\n",
        "y_pred_class = logit_model.predict(X_test)\n",
        "y_pred_prob = logit_model.predict_proba(X_test)[:, 1]  # Get probability scores\n",
        "\n",
        "#  Evaluate Performance\n",
        "accuracy = accuracy_score(y_test, y_pred_class)\n",
        "roc_auc = roc_auc_score(y_test, y_pred_prob)\n",
        "conf_matrix = confusion_matrix(y_test, y_pred_class)\n",
        "\n",
        "print(f\"\\n✔ Accuracy: {accuracy:.4f}\")\n",
        "print(f\"✔ ROC AUC Score: {roc_auc:.4f}\")\n",
        "print(\"✔ Confusion Matrix:\\n\", conf_matrix)\n",
        "\n",
        "#  Visualization\n",
        "plt.figure(figsize=(8, 6))\n",
        "sns.boxplot(x=y, y=df[\"goal_diff\"], palette=\"coolwarm\")\n",
        "plt.xlabel(\"Home Team Victory (0 = Loss, 1 = Win)\")\n",
        "plt.ylabel(\"Goal Difference\")\n",
        "plt.title(\"Impact of Goal Difference on Home Team Victory\")\n",
        "plt.grid(True)\n",
        "plt.show()"
      ],
      "metadata": {
        "id": "a8UZ6eKwmh2N"
      },
      "execution_count": null,
      "outputs": []
    }
  ],
  "metadata": {
    "kernelspec": {
      "display_name": "Python 3",
      "name": "python3"
    },
    "language_info": {
      "codemirror_mode": {
        "name": "ipython",
        "version": 3
      },
      "file_extension": ".py",
      "mimetype": "text/x-python",
      "name": "python",
      "nbconvert_exporter": "python",
      "pygments_lexer": "ipython3",
      "version": "3.10.12"
    },
    "colab": {
      "provenance": [],
      "machine_shape": "hm",
      "gpuType": "T4"
    },
    "accelerator": "GPU"
  },
  "nbformat": 4,
  "nbformat_minor": 0
}
{
 "cells": [
  {
   "cell_type": "code",
   "execution_count": 1,
   "metadata": {},
   "outputs": [],
   "source": [
    "\"\"\"import statements as required\"\"\"\n",
    "import pandas as pd"
   ]
  },
  {
   "cell_type": "code",
   "execution_count": 7,
   "metadata": {},
   "outputs": [
    {
     "name": "stdout",
     "output_type": "stream",
     "text": [
      "Original match count 47980\n"
     ]
    }
   ],
   "source": [
    "\"\"\"Multiple dataframes based on input files\"\"\"\n",
    "filenames = [\"results\", \"goalscorers\", \"shootouts\"]\n",
    "dataframes = {}\n",
    "for filename in filenames:\n",
    "    df = pd.read_csv(f\"Data/Original/{filename}.csv\")\n",
    "    dataframes[filename] = df\n",
    "\n",
    "print(\"Original match count\", len(dataframes[\"results\"]))"
   ]
  },
  {
   "cell_type": "code",
   "execution_count": null,
   "metadata": {},
   "outputs": [],
   "source": [
    "\"\"\"Combine the results df with the goalscoreres df and save to csv for future use\"\"\"\n",
    "goals = dataframes[\"goalscorers\"]\n",
    "shootouts = dataframes[\"shootouts\"]\n",
    "results = dataframes[\"results\"].iloc[10000 * i:]\n",
    "combined = pd.DataFrame(columns = [\"date\", \"home_team\", \"away_team\", \"home_score\", \"away_score\", \"home_team_victory\", \"draw\", \"tournament_name\", \"city\", \"country\", \"neutral\",\n",
    "            \"scoring_team\", \"scoring_player\", \"minute\", \"own_goal\", \"penalty\", \"shootout_required\", \"first_shooter\", \"winner\"])\n",
    "\n",
    "for result_index, result_row in results.iterrows():\n",
    "\n",
    "    date = result_row[\"date\"]\n",
    "    home_team = result_row[\"home_team\"]\n",
    "    away_team = result_row[\"away_team\"]\n",
    "    home_score = result_row[\"home_score\"]\n",
    "    away_score =  result_row[\"away_score\"]\n",
    "    home_team_victory = home_score > away_score\n",
    "    draw = home_score == away_score\n",
    "    tournament_name = result_row[\"tournament\"]\n",
    "    city = result_row[\"city\"]\n",
    "    country = result_row[\"country\"]\n",
    "    neutral = result_row[\"neutral\"]\n",
    "\n",
    "    df = goals.loc[goals[\"date\"] == date]\n",
    "    df = df.loc[df[\"home_team\"] == home_team]\n",
    "    df = df.loc[df[\"away_team\"] == away_team]\n",
    "\n",
    "    if len(df):\n",
    "        for goal_index, goal_row in df.iterrows():\n",
    "            scoring_team = goal_row[\"team\"]\n",
    "            scoring_player = goal_row[\"scorer\"]\n",
    "            minute = goal_row[\"minute\"]\n",
    "            own_goal = goal_row[\"own_goal\"]\n",
    "            penalty = goal_row[\"penalty\"]\n",
    "            combined.loc[len(combined)] = [date, home_team, away_team, home_score, away_score, home_team_victory, draw, tournament_name, city, country, neutral,\n",
    "                    scoring_team, scoring_player, minute, own_goal, penalty]\n",
    "    else:\n",
    "        scoring_team = None\n",
    "        scoring_player = None\n",
    "        minute = None\n",
    "        own_goal = None\n",
    "        penalty = None\n",
    "        combined.loc[len(combined)] = [date, home_team, away_team, home_score, away_score, home_team_victory, draw, tournament_name, city, country, neutral,\n",
    "            scoring_team, scoring_player, minute, own_goal, penalty]\n",
    "\n",
    "combined.to_csv(\"Data/Interm/combined.csv\", index=False)"
   ]
  },
  {
   "cell_type": "code",
   "execution_count": 35,
   "metadata": {},
   "outputs": [],
   "source": [
    "\"\"\"Add more columns to the combined CSV accounting for shootout datapoints\"\"\"\n",
    "combined = pd.read_csv(\"combined.csv\")\n",
    "shootouts = dataframes[\"shootouts\"]\n",
    "\n",
    "everything = pd.DataFrame(columns = [\"date\", \"home_team\", \"away_team\", \"home_score\", \"away_score\", \"home_team_victory\", \"draw\", \"tournament_name\", \"city\", \"country\", \"neutral\",\n",
    "            \"scoring_team\", \"scoring_player\", \"minute\", \"own_goal\", \"penalty\", \"shootout_required\", \"first_shooter\", \"winner\"])\n",
    "for result_index, result_row in combined.iterrows():\n",
    "    date = result_row[\"date\"]\n",
    "    home_team = result_row[\"home_team\"]\n",
    "    away_team = result_row[\"away_team\"]\n",
    "    home_score = result_row[\"home_score\"]\n",
    "    away_score =  result_row[\"away_score\"]\n",
    "    home_team_victory = result_row[\"home_team_victory\"]\n",
    "    draw = home_score == result_row[\"away_score\"]\n",
    "    tournament_name = result_row[\"tournament_name\"]\n",
    "    city = result_row[\"city\"]\n",
    "    country = result_row[\"country\"]\n",
    "    neutral = result_row[\"neutral\"]\n",
    "    scoring_team = result_row[\"scoring_team\"]\n",
    "    scoring_player = result_row[\"scoring_player\"]\n",
    "    minute = result_row[\"minute\"]\n",
    "    own_goal = result_row[\"own_goal\"]\n",
    "    penalty = result_row[\"penalty\"]\n",
    "\n",
    "    df = shootouts.loc[shootouts[\"date\"] == date]\n",
    "    df = df.loc[df[\"home_team\"] == home_team]\n",
    "    df = df.loc[df[\"away_team\"] == away_team]\n",
    "\n",
    "    if len(df):\n",
    "        for shootout_index, shootout_row in df.iterrows():\n",
    "            shootout_required = True\n",
    "            first_shooter = shootout_row[\"first_shooter\"]\n",
    "            winner = shootout_row[\"winner\"]\n",
    "            everything.loc[len(everything)] = [date, home_team, away_team, home_score, away_score, home_team_victory, draw, tournament_name, city, country, neutral,\n",
    "                    scoring_team, scoring_player, minute, own_goal, penalty, shootout_required, first_shooter, winner]\n",
    "    else:\n",
    "        shootout_required = False\n",
    "        first_shooter = None\n",
    "        winner = None\n",
    "        everything.loc[len(everything)] = [date, home_team, away_team, home_score, away_score, home_team_victory, draw, tournament_name, city, country, neutral,\n",
    "            scoring_team, scoring_player, minute, own_goal, penalty, shootout_required, first_shooter, winner]\n",
    "        \n",
    "everything.to_csv(f\"Data/Interm/everything.csv\", index=False)"
   ]
  },
  {
   "cell_type": "code",
   "execution_count": 7,
   "metadata": {},
   "outputs": [],
   "source": [
    "\"\"\"Adjust data to account for shootouts\"\"\"\n",
    "combined = pd.read_csv(\"Interm/everything.csv\")\n",
    "combined.loc[combined[\"home_team\"] == combined[\"winner\"], \"home_team_victory\"] = True\n",
    "combined.loc[combined[\"shootout_required\"] == True, \"draw\"] = False\n",
    "\n",
    "combined.to_csv(\"Interm/combined.csv\", index=False)"
   ]
  },
  {
   "cell_type": "code",
   "execution_count": 8,
   "metadata": {},
   "outputs": [
    {
     "name": "stdout",
     "output_type": "stream",
     "text": [
      "FIFA qualification match count: 23719\n",
      "FIFA Cup match count: 2798\n",
      "Test data percentage: 10.55\n"
     ]
    }
   ],
   "source": [
    "\"\"\"Break data into training data and test data\"\"\"\n",
    "training_data = combined.loc[combined[\"tournament_name\"] == \"FIFA World Cup qualification\"]\n",
    "test_data = combined.loc[combined[\"tournament_name\"] == \"FIFA World Cup\"]\n",
    "\n",
    "training_len = len(training_data)\n",
    "test_len = len(test_data)\n",
    "\n",
    "print(\"FIFA qualification match count:\", training_len)\n",
    "print(\"FIFA Cup match count:\", test_len)\n",
    "print(\"Test data percentage:\", round(100 * test_len / (test_len + training_len), 2))"
   ]
  },
  {
   "cell_type": "code",
   "execution_count": 9,
   "metadata": {},
   "outputs": [
    {
     "name": "stdout",
     "output_type": "stream",
     "text": [
      "done\n"
     ]
    }
   ],
   "source": [
    "\"\"\"Save test and training datasets\"\"\"\n",
    "training_data.to_csv(\"Working/training.csv\", index=False)\n",
    "test_data.to_csv(\"Working/test.csv\", index=False)\n",
    "print(\"done\")"
   ]
  }
 ],
 "metadata": {
  "kernelspec": {
   "display_name": "Python 3",
   "language": "python",
   "name": "python3"
  },
  "language_info": {
   "codemirror_mode": {
    "name": "ipython",
    "version": 3
   },
   "file_extension": ".py",
   "mimetype": "text/x-python",
   "name": "python",
   "nbconvert_exporter": "python",
   "pygments_lexer": "ipython3",
   "version": "3.10.12"
  }
 },
 "nbformat": 4,
 "nbformat_minor": 2
}
